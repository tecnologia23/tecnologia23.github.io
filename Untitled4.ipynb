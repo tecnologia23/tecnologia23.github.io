{
  "nbformat": 4,
  "nbformat_minor": 0,
  "metadata": {
    "colab": {
      "provenance": [],
      "authorship_tag": "ABX9TyPeP269w7n75VH/FSggU1sN",
      "include_colab_link": true
    },
    "kernelspec": {
      "name": "python3",
      "display_name": "Python 3"
    },
    "language_info": {
      "name": "python"
    }
  },
  "cells": [
    {
      "cell_type": "markdown",
      "metadata": {
        "id": "view-in-github",
        "colab_type": "text"
      },
      "source": [
        "<a href=\"https://colab.research.google.com/github/tecnologia23/tecnologia23.github.io/blob/main/Untitled4.ipynb\" target=\"_parent\"><img src=\"https://colab.research.google.com/assets/colab-badge.svg\" alt=\"Open In Colab\"/></a>"
      ]
    },
    {
      "cell_type": "code",
      "execution_count": 2,
      "metadata": {
        "id": "xtxZo5iduu5p"
      },
      "outputs": [],
      "source": [
        "import pandas as pd\n",
        "import matplotlib.pyplot as plt\n",
        "import seaborn as sns\n",
        "from sklearn.tree import DecisionTreeRegressor\n",
        "from sklearn.linear_model import LinearRegression"
      ]
    },
    {
      "cell_type": "code",
      "source": [
        "##data = pd.read_csv(\"poblacion.csv\")\n",
        "from google.colab import drive\n",
        "drive.mount('/content/drive')\n",
        "# Reemplaza 'ruta/a/tu/archivo.csv' con la ruta real a tu archivo en Drive\n",
        "file_path = '/content/drive/My Drive/datasets/poblacion.csv'\n",
        "data = pd.read_csv(file_path)  # Si es un archivo CSV\n",
        "data"
      ],
      "metadata": {
        "id": "73BZCqagxx2T"
      },
      "execution_count": null,
      "outputs": []
    },
    {
      "cell_type": "code",
      "source": [
        "dataall = pd.read_csv('poblacion.csv')"
      ],
      "metadata": {
        "id": "ufXqOpSZyB_x"
      },
      "execution_count": null,
      "outputs": []
    },
    {
      "cell_type": "code",
      "source": [
        "dataall.isna().sum()"
      ],
      "metadata": {
        "id": "pTQCuc3IyTy6"
      },
      "execution_count": null,
      "outputs": []
    },
    {
      "cell_type": "code",
      "source": [
        "data = dataall[dataall[\"Date\"] <= 2010]"
      ],
      "metadata": {
        "id": "piOdwSdOyXnA"
      },
      "execution_count": null,
      "outputs": []
    },
    {
      "cell_type": "code",
      "source": [
        "datatest = dataall[dataall[\"Date\"] > 2010]"
      ],
      "metadata": {
        "id": "dUWOiAwoyZg3"
      },
      "execution_count": null,
      "outputs": []
    },
    {
      "cell_type": "code",
      "source": [
        "datatest[\"Date\"]"
      ],
      "metadata": {
        "id": "bLhnltCaychG"
      },
      "execution_count": null,
      "outputs": []
    },
    {
      "cell_type": "code",
      "source": [
        "y = data[\"COL\"]"
      ],
      "metadata": {
        "id": "uBSp938fye2D"
      },
      "execution_count": null,
      "outputs": []
    },
    {
      "cell_type": "code",
      "source": [
        "X = data[[\"Date\"]]"
      ],
      "metadata": {
        "id": "OUOZsqACyg5X"
      },
      "execution_count": null,
      "outputs": []
    },
    {
      "cell_type": "code",
      "source": [
        "from sklearn.model_selection import train_test_split\n",
        "train_X, val_X, train_y, val_y = train_test_split(X, y, random_state=1)"
      ],
      "metadata": {
        "id": "etvEKhfxyjaS"
      },
      "execution_count": null,
      "outputs": []
    },
    {
      "cell_type": "code",
      "source": [
        "plt.scatter(train_X, train_y)\n",
        "plt.scatter(val_X, val_y)\n",
        "plt.show()"
      ],
      "metadata": {
        "id": "hLoW-SNyykKV"
      },
      "execution_count": null,
      "outputs": []
    },
    {
      "cell_type": "code",
      "source": [
        "model = LinearRegression()\n",
        "model.fit(train_X, train_y)"
      ],
      "metadata": {
        "id": "2WxQWD2-yoqW"
      },
      "execution_count": null,
      "outputs": []
    },
    {
      "cell_type": "code",
      "source": [
        "prediccion_prueba = model.predict(val_X)"
      ],
      "metadata": {
        "id": "f-oJdJv5yrmZ"
      },
      "execution_count": null,
      "outputs": []
    },
    {
      "cell_type": "code",
      "source": [
        "plt.scatter(val_X, val_y)\n",
        "plt.scatter(val_X, prediccion_prueba)\n",
        "plt.show()"
      ],
      "metadata": {
        "id": "8sCbql04ytxZ"
      },
      "execution_count": null,
      "outputs": []
    },
    {
      "cell_type": "code",
      "source": [
        "prediccion_futura = model.predict(datatest[[\"Date\"]])"
      ],
      "metadata": {
        "id": "VxPBk0J4yvt8"
      },
      "execution_count": null,
      "outputs": []
    },
    {
      "cell_type": "code",
      "source": [
        "#plt.scatter(train_X, train_y)\n",
        "#plt.scatter(val_X, val_y)\n",
        "plt.scatter(datatest[\"Date\"], prediccion_futura)\n",
        "plt.scatter(datatest[\"Date\"], datatest[\"COL\"])\n",
        "plt.show()"
      ],
      "metadata": {
        "id": "I5939LEYyx5G"
      },
      "execution_count": null,
      "outputs": []
    },
    {
      "cell_type": "code",
      "source": [
        "print(datatest[\"COL\"])\n",
        "prediccion_futura"
      ],
      "metadata": {
        "id": "SOCkMBkgy1XF"
      },
      "execution_count": null,
      "outputs": []
    },
    {
      "cell_type": "code",
      "source": [
        "model2 = DecisionTreeRegressor(random_state=1)\n",
        "model2.fit(train_X, train_y)"
      ],
      "metadata": {
        "id": "RZkbytTSy4Uc"
      },
      "execution_count": null,
      "outputs": []
    },
    {
      "cell_type": "code",
      "source": [
        "prediccion_futura = model2.predict(datatest[[\"Date\"]])"
      ],
      "metadata": {
        "id": "IREwVhdSy61h"
      },
      "execution_count": null,
      "outputs": []
    },
    {
      "cell_type": "code",
      "source": [
        "plt.scatter(datatest[\"Date\"], datatest[\"COL\"])\n",
        "plt.scatter(datatest[\"Date\"], prediccion_futura)\n",
        "plt.show()"
      ],
      "metadata": {
        "id": "TSu549NIy8_2"
      },
      "execution_count": null,
      "outputs": []
    },
    {
      "cell_type": "code",
      "source": [
        "prediccion_futura = model2.predict(val_X)"
      ],
      "metadata": {
        "id": "uu54A7pHy_J6"
      },
      "execution_count": null,
      "outputs": []
    },
    {
      "cell_type": "code",
      "source": [
        "#plt.scatter(train_X, train_y)\n",
        "plt.scatter(val_X, prediccion_futura)\n",
        "plt.scatter(val_X, val_y)\n",
        "\n",
        "plt.show()"
      ],
      "metadata": {
        "id": "wj44MjFKzBUb"
      },
      "execution_count": null,
      "outputs": []
    },
    {
      "cell_type": "code",
      "source": [
        "prediccion = pd.DataFrame({'Date': [2030]})\n",
        "prediccion_futura = model.predict(prediccion)\n",
        "print(f\"Población estimada para Colombia en 2030: {prediccion_futura[0]}\")"
      ],
      "metadata": {
        "id": "D9GiMv72zEdm"
      },
      "execution_count": null,
      "outputs": []
    },
    {
      "cell_type": "code",
      "source": [
        "from sklearn.metrics import precision_score, recall_score, f1_score\n",
        "#precision = precision_score(val_y, prediccion_futura)\n",
        "#recall = recall_score(val_y, prediccion_futura)\n",
        "f1 = f1_score(val_y, prediccion_futura)\n",
        "print(f'Precision: {precision}, Recall: {recall}, F1-score: {f1}')"
      ],
      "metadata": {
        "id": "lPIwChzlzHO_"
      },
      "execution_count": null,
      "outputs": []
    },
    {
      "cell_type": "code",
      "source": [
        "from sklearn.pipeline import Pipeline\n",
        "from sklearn.linear_model import LinearRegression\n",
        "from sklearn.preprocessing import StandardScaler\n",
        "scaler = StandardScaler()\n",
        "pipeline = Pipeline([\n",
        "    ('scaler', StandardScaler()),\n",
        "    ('model', LinearRegression())\n",
        "])\n",
        "pipeline.fit(X, y)\n",
        "predictions = pipeline.predict(X)\n",
        "print(predictions)"
      ],
      "metadata": {
        "id": "_bzV5RB4zLAv"
      },
      "execution_count": null,
      "outputs": []
    },
    {
      "cell_type": "code",
      "source": [
        "#plt.scatter(train_X, train_y)\n",
        "plt.scatter(X, predictions)\n",
        "plt.scatter(val_X, val_y)\n",
        "\n",
        "plt.show()"
      ],
      "metadata": {
        "id": "qfDwQPWgzNfy"
      },
      "execution_count": null,
      "outputs": []
    }
  ]
}