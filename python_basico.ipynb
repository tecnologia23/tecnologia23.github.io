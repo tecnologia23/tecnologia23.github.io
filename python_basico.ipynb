{
  "nbformat": 4,
  "nbformat_minor": 0,
  "metadata": {
    "colab": {
      "provenance": [],
      "toc_visible": true,
      "include_colab_link": true
    },
    "kernelspec": {
      "name": "python3",
      "display_name": "Python 3"
    },
    "language_info": {
      "name": "python"
    }
  },
  "cells": [
    {
      "cell_type": "markdown",
      "metadata": {
        "id": "view-in-github",
        "colab_type": "text"
      },
      "source": [
        "<a href=\"https://colab.research.google.com/github/tecnologia23/tecnologia23.github.io/blob/main/python_basico.ipynb\" target=\"_parent\"><img src=\"https://colab.research.google.com/assets/colab-badge.svg\" alt=\"Open In Colab\"/></a>"
      ]
    },
    {
      "cell_type": "code",
      "execution_count": null,
      "metadata": {
        "colab": {
          "base_uri": "https://localhost:8080/"
        },
        "id": "j1ueMEQVhaYy",
        "outputId": "1bf36ec2-55eb-48b2-b0e1-cfba622ef5d6"
      },
      "outputs": [
        {
          "output_type": "stream",
          "name": "stdout",
          "text": [
            "hola mundo\n"
          ]
        }
      ],
      "source": [
        "print(\"hola mundo\")\n",
        "prin"
      ]
    },
    {
      "cell_type": "code",
      "source": [
        "# Guardamos un número en una variable\n",
        "edad = 25\n",
        "\n",
        "# Mostramos el valor\n",
        "print(edad)  # 25\n"
      ],
      "metadata": {
        "colab": {
          "base_uri": "https://localhost:8080/"
        },
        "id": "UiPAPozll0xb",
        "outputId": "6bbc62c2-07f1-4396-b168-6dabfc57246a"
      },
      "execution_count": null,
      "outputs": [
        {
          "output_type": "stream",
          "name": "stdout",
          "text": [
            "25\n"
          ]
        }
      ]
    },
    {
      "cell_type": "code",
      "source": [
        "nombre = \"Ana\"      # Texto (string)\n",
        "edad = 30           # Número entero (int)\n",
        "altura = 1.75       # Número decimal (float)\n",
        "es_mayor = True     # Valor lógico (booleano)\n",
        "\n",
        "print(nombre, edad, altura, es_mayor)"
      ],
      "metadata": {
        "colab": {
          "base_uri": "https://localhost:8080/"
        },
        "id": "PC11iRfRm5cQ",
        "outputId": "78dd8b62-2587-4b48-832c-a0a3c2a945af"
      },
      "execution_count": null,
      "outputs": [
        {
          "output_type": "stream",
          "name": "stdout",
          "text": [
            "Ana 30 1.75 True\n"
          ]
        }
      ]
    },
    {
      "cell_type": "code",
      "source": [
        "x = 10  # x empieza con 10\n",
        "print(x)  # 10\n",
        "\n",
        "x = 20  # Ahora x vale 20\n",
        "print(x)  # 20\n"
      ],
      "metadata": {
        "colab": {
          "base_uri": "https://localhost:8080/"
        },
        "id": "4GrF2D9bm6R8",
        "outputId": "0e171a20-6bcc-4fdd-c5cf-8ab7e6cf1e10"
      },
      "execution_count": null,
      "outputs": [
        {
          "output_type": "stream",
          "name": "stdout",
          "text": [
            "10\n",
            "20\n"
          ]
        }
      ]
    },
    {
      "cell_type": "code",
      "source": [
        "#login\n",
        "cedula=1015987969\n",
        "clave = 1265\n",
        "clave_dinamica=158636\n",
        "\n",
        "#pantalla principal\n",
        "saldo = 50000\n",
        "Saldo = \"\"\n",
        "cliente= {\"nombre\": \"Juan\", \"apellido\": \"ramirez\",\"cedula\":cedula, \"email\":\"juan@gmail.com\"}\n",
        "cuenta={\"numero_cuenta\":\"43423424\",\"cliente\":cliente}\n",
        "lista_cuentas=[{\"numero_cuenta\":43423424,\"cliente\":cliente}, {\"numero_cuenta\":\"43423424\",\"cliente\":cliente}]\n",
        "\n",
        "#transferencias\n",
        "fecha=\"\"\n",
        "tipo_transferencia=\"\"\n",
        "\n",
        "\n",
        "#movimientos\n",
        "tipo_movimiento=\"\"\n",
        "fecha=\"\"\n",
        "monto=\"\"\n",
        "saldo=\"\"\n",
        "lista_movimientos=\"\"\n",
        "\n",
        "print(lista_cuentas)\n"
      ],
      "metadata": {
        "id": "SmqcI7h1nQKl",
        "colab": {
          "base_uri": "https://localhost:8080/"
        },
        "outputId": "a9194e0f-13af-4c68-9887-213bbb58e59b"
      },
      "execution_count": null,
      "outputs": [
        {
          "output_type": "stream",
          "name": "stdout",
          "text": [
            "[{'numero_cuenta': 43423424, 'cliente': {'nombre': 'Juan', 'apellido': 'ramirez', 'cedula': 1015987969, 'email': 'juan@gmail.com'}}, {'numero_cuenta': '43423424', 'cliente': {'nombre': 'Juan', 'apellido': 'ramirez', 'cedula': 1015987969, 'email': 'juan@gmail.com'}}]\n"
          ]
        }
      ]
    },
    {
      "cell_type": "code",
      "source": [
        "diccionario = {\"nombre\": \"Juan\", \"edad\": 30,\"apellido\": \"perez\"}\n",
        "print(diccionario)\n",
        "diccionario[\"profesión\"] = \"Ingeniero\"\n",
        "print(diccionario)\n",
        "print(diccionario[\"nombre\"])"
      ],
      "metadata": {
        "colab": {
          "base_uri": "https://localhost:8080/"
        },
        "id": "Cej0bXP5sp4L",
        "outputId": "8ffb5017-12f0-427f-9b04-6ed810a9f076"
      },
      "execution_count": null,
      "outputs": [
        {
          "output_type": "stream",
          "name": "stdout",
          "text": [
            "{'nombre': 'pepito', 'edad': 30, 'apellido': 'perez'}\n",
            "{'nombre': 'pepito', 'edad': 30, 'apellido': 'perez', 'profesión': 'Ingeniero'}\n",
            "pepito\n"
          ]
        }
      ]
    },
    {
      "cell_type": "code",
      "source": [
        "texto = \"Hola, mundo\"\n",
        "print(texto.upper())  # \"HOLA, MUNDO\""
      ],
      "metadata": {
        "colab": {
          "base_uri": "https://localhost:8080/"
        },
        "id": "AzCvOiqguElf",
        "outputId": "5beb1807-5395-4c56-f0bf-165b949833de"
      },
      "execution_count": null,
      "outputs": [
        {
          "output_type": "stream",
          "name": "stdout",
          "text": [
            "HOLA, MUNDO\n"
          ]
        }
      ]
    },
    {
      "cell_type": "code",
      "source": [
        "texto = \"    manzana banana uva\"\n",
        "texto = texto.strip()\n",
        "print(texto.split(\" \"))  # ['manzana', 'banana', 'uva']"
      ],
      "metadata": {
        "colab": {
          "base_uri": "https://localhost:8080/"
        },
        "id": "2iFKU5kBvzuU",
        "outputId": "10e51c23-6ccf-4688-8ba4-979c10f7d22b"
      },
      "execution_count": null,
      "outputs": [
        {
          "output_type": "stream",
          "name": "stdout",
          "text": [
            "['manzana', 'banana', 'uva']\n"
          ]
        }
      ]
    },
    {
      "cell_type": "code",
      "source": [
        "# Ejemplos de operadores aritméticos\n",
        "x = 11\n",
        "y = 3\n",
        "print(x + y)   # 13\n",
        "print(x - y)   # 7\n",
        "print(x * y)   # 30\n",
        "print(x / y)   # 3.333...\n",
        "print(x % y)   # 1\n",
        "print(x ** y)  # 1000\n",
        "print(x // y)  # 3"
      ],
      "metadata": {
        "id": "vHtncvM9wCrZ",
        "colab": {
          "base_uri": "https://localhost:8080/"
        },
        "outputId": "54f5bc34-1f08-424c-e80d-5dcc3e495cbc"
      },
      "execution_count": null,
      "outputs": [
        {
          "output_type": "stream",
          "name": "stdout",
          "text": [
            "14\n",
            "8\n",
            "33\n",
            "3.6666666666666665\n",
            "2\n",
            "1331\n",
            "3\n"
          ]
        }
      ]
    },
    {
      "cell_type": "code",
      "source": [
        "# Ejemplos de operadores de comparación\n",
        "a = \"a\"\n",
        "b = \"p\"\n",
        "print(a == b)   # False\n",
        "print(a != b)   # True\n",
        "print(a > b)    # False\n",
        "print(a < b)    # True\n",
        "print(a >= b)   # False\n",
        "print(a <= b)   # True"
      ],
      "metadata": {
        "colab": {
          "base_uri": "https://localhost:8080/"
        },
        "id": "_wCj6YQ0QiwU",
        "outputId": "b43b1414-833c-4811-bddc-a35d77d5cda8"
      },
      "execution_count": null,
      "outputs": [
        {
          "output_type": "stream",
          "name": "stdout",
          "text": [
            "False\n",
            "True\n",
            "False\n",
            "True\n",
            "False\n",
            "True\n"
          ]
        }
      ]
    },
    {
      "cell_type": "code",
      "source": [
        "def es_mayor_de_edad(edad):\n",
        "    if edad >= 18 and edad <= 60:\n",
        "        return \"Es mayor de edad\"\n",
        "        print(\"Es mayor de edad\")\n",
        "    elif edad>= 60:\n",
        "        print(\"Es adunto mayor\")\n",
        "    else:\n",
        "      print(\"Es menor de edad\")\n",
        "# Pruebas\n",
        "print(es_mayor_de_edad(20))  # Es mayor de edad\n",
        "print(es_mayor_de_edad(5))  # Es menor de edad\n",
        "## ejemplo 2 ###\n",
        "edad:edad = 18\n",
        "def edad(edad):\n",
        "    if edad >= 18:\n",
        "      print(\"mayor de edad\")\n",
        "    else:\n",
        "      print(\"menor de edad\")\n",
        "# Ejemplo\n",
        "print(edad(20))   # Acceso permitido\n",
        "print(edad(7))   # Acceso denegado\n",
        "##ejemplo 3###\n",
        "def es_mayor_de_edad(edad):\n",
        "    if 18 <= edad <= 60:\n",
        "        return(\"es_mayor_de_edad\")\n",
        "    elif edad >= 60:\n",
        "        return \"Es mayor de edad\"\n",
        "    elif edad > 60:\n",
        "        return \"Es adulto mayor\"\n",
        "    else:\n",
        "        return \"Es menor de edad\"\n",
        "# Pruebas\n",
        "print(es_mayor_de_edad(20))  # Es mayor de edad\n",
        "print(es_mayor_de_edad(5))   # Es menor de edad\n",
        "print(es_mayor_de_edad(75))  # Es adulto mayor\n",
        "edad = input(\"Introduce la edad: \")\n",
        "print(es_mayor_de_edad(edad))\n",
        "## ejemplo 4\n",
        "x:x = 11\n",
        "if x > 10:\n",
        "    print(\"Mayor que 10\")\n",
        "elif x == 10:\n",
        "    print(\"Igual a 10\")\n",
        "else:\n",
        "    print(\"Menor que 10\")\n",
        "\n"
      ],
      "metadata": {
        "colab": {
          "base_uri": "https://localhost:8080/",
          "height": 523
        },
        "id": "xKuvNOcbqQBS",
        "outputId": "f860466b-a744-44fd-dd24-e46c9509018e"
      },
      "execution_count": 39,
      "outputs": [
        {
          "name": "stdout",
          "output_type": "stream",
          "text": [
            "Es mayor de edad\n",
            "Es menor de edad\n",
            "None\n",
            "mayor de edad\n",
            "None\n",
            "menor de edad\n",
            "None\n",
            "es_mayor_de_edad\n",
            "Es menor de edad\n",
            "Es mayor de edad\n",
            "Introduce la edad: 70\n"
          ]
        },
        {
          "output_type": "error",
          "ename": "TypeError",
          "evalue": "'<=' not supported between instances of 'int' and 'str'",
          "traceback": [
            "\u001b[0;31m---------------------------------------------------------------------------\u001b[0m",
            "\u001b[0;31mTypeError\u001b[0m                                 Traceback (most recent call last)",
            "\u001b[0;32m<ipython-input-39-2d1215fd178c>\u001b[0m in \u001b[0;36m<cell line: 0>\u001b[0;34m()\u001b[0m\n\u001b[1;32m     35\u001b[0m \u001b[0mprint\u001b[0m\u001b[0;34m(\u001b[0m\u001b[0mes_mayor_de_edad\u001b[0m\u001b[0;34m(\u001b[0m\u001b[0;36m75\u001b[0m\u001b[0;34m)\u001b[0m\u001b[0;34m)\u001b[0m  \u001b[0;31m# Es adulto mayor\u001b[0m\u001b[0;34m\u001b[0m\u001b[0;34m\u001b[0m\u001b[0m\n\u001b[1;32m     36\u001b[0m \u001b[0medad\u001b[0m \u001b[0;34m=\u001b[0m \u001b[0minput\u001b[0m\u001b[0;34m(\u001b[0m\u001b[0;34m\"Introduce la edad: \"\u001b[0m\u001b[0;34m)\u001b[0m\u001b[0;34m\u001b[0m\u001b[0;34m\u001b[0m\u001b[0m\n\u001b[0;32m---> 37\u001b[0;31m \u001b[0mprint\u001b[0m\u001b[0;34m(\u001b[0m\u001b[0mes_mayor_de_edad\u001b[0m\u001b[0;34m(\u001b[0m\u001b[0medad\u001b[0m\u001b[0;34m)\u001b[0m\u001b[0;34m)\u001b[0m\u001b[0;34m\u001b[0m\u001b[0;34m\u001b[0m\u001b[0m\n\u001b[0m\u001b[1;32m     38\u001b[0m \u001b[0;31m## ejemplo 4\u001b[0m\u001b[0;34m\u001b[0m\u001b[0;34m\u001b[0m\u001b[0m\n\u001b[1;32m     39\u001b[0m \u001b[0mx\u001b[0m\u001b[0;34m:\u001b[0m\u001b[0mx\u001b[0m \u001b[0;34m=\u001b[0m \u001b[0;36m11\u001b[0m\u001b[0;34m\u001b[0m\u001b[0;34m\u001b[0m\u001b[0m\n",
            "\u001b[0;32m<ipython-input-39-2d1215fd178c>\u001b[0m in \u001b[0;36mes_mayor_de_edad\u001b[0;34m(edad)\u001b[0m\n\u001b[1;32m     22\u001b[0m \u001b[0;31m##ejemplo 3###\u001b[0m\u001b[0;34m\u001b[0m\u001b[0;34m\u001b[0m\u001b[0m\n\u001b[1;32m     23\u001b[0m \u001b[0;32mdef\u001b[0m \u001b[0mes_mayor_de_edad\u001b[0m\u001b[0;34m(\u001b[0m\u001b[0medad\u001b[0m\u001b[0;34m)\u001b[0m\u001b[0;34m:\u001b[0m\u001b[0;34m\u001b[0m\u001b[0;34m\u001b[0m\u001b[0m\n\u001b[0;32m---> 24\u001b[0;31m     \u001b[0;32mif\u001b[0m \u001b[0;36m18\u001b[0m \u001b[0;34m<=\u001b[0m \u001b[0medad\u001b[0m \u001b[0;34m<=\u001b[0m \u001b[0;36m60\u001b[0m\u001b[0;34m:\u001b[0m\u001b[0;34m\u001b[0m\u001b[0;34m\u001b[0m\u001b[0m\n\u001b[0m\u001b[1;32m     25\u001b[0m         \u001b[0;32mreturn\u001b[0m\u001b[0;34m(\u001b[0m\u001b[0;34m\"es_mayor_de_edad\"\u001b[0m\u001b[0;34m)\u001b[0m\u001b[0;34m\u001b[0m\u001b[0;34m\u001b[0m\u001b[0m\n\u001b[1;32m     26\u001b[0m     \u001b[0;32melif\u001b[0m \u001b[0medad\u001b[0m \u001b[0;34m>=\u001b[0m \u001b[0;36m60\u001b[0m\u001b[0;34m:\u001b[0m\u001b[0;34m\u001b[0m\u001b[0;34m\u001b[0m\u001b[0m\n",
            "\u001b[0;31mTypeError\u001b[0m: '<=' not supported between instances of 'int' and 'str'"
          ]
        }
      ]
    },
    {
      "cell_type": "code",
      "source": [
        "# Ejemplo: Días de la semana\n",
        "def dia_de_la_semana(dia):\n",
        "    match dia:\n",
        "        case \"lunes\":\n",
        "            return \"Inicio de la semana laboral.\"\n",
        "        case \"viernes\":\n",
        "            return \"¡Es viernes, casi fin de semana!\"\n",
        "        case \"sábado\" | \"domingo\":\n",
        "            return \"Fin de semana.\"\n",
        "        case _:\n",
        "            return \"Día no válido.\"\n",
        "\n",
        "# Uso del switch\n",
        "print(dia_de_la_semana(\"lunes\"))   # Salida: Inicio de la semana laboral.\n",
        "print(dia_de_la_semana(\"sábado\")) # Salida: Fin de semana.\n",
        "print(dia_de_la_semana(\"casa\")) # Salida: Fin de semana.\n",
        "\n",
        "#ejemplo2\n",
        "\n",
        "def dia_de_la_semana(dia):\n",
        "    dia = dia.lower()\n",
        "    match dia:\n",
        "        case \"lunes\":\n",
        "            return \"Inicio de la semana laboral.\"\n",
        "        case \"viernes\":\n",
        "            return \"¡Es viernes, casi fin de semana!\"\n",
        "        case \"sábado\" | \"domingo\":\n",
        "            return \"Fin de semana.\"\n",
        "        case _:\n",
        "            return \"Día no válido.\"\n",
        "\n",
        "\n",
        "dia_usuario = input(\"Introduce un día de la semana: \")\n",
        "print(dia_de_la_semana(dia=dia_usuario))\n"
      ],
      "metadata": {
        "id": "kxEF8IDDxr1O",
        "outputId": "999ce2ca-460b-45ed-f975-13b4a760057f",
        "colab": {
          "base_uri": "https://localhost:8080/"
        }
      },
      "execution_count": 40,
      "outputs": [
        {
          "output_type": "stream",
          "name": "stdout",
          "text": [
            "Inicio de la semana laboral.\n",
            "Fin de semana.\n",
            "Día no válido.\n",
            "Introduce un día de la semana: martes\n",
            "Día no válido.\n"
          ]
        }
      ]
    },
    {
      "cell_type": "code",
      "source": [
        "#definir una funncion que reciba como parametro un numero identifique si el numero es par o impar.\n",
        "\n",
        "\n",
        "\n",
        "# ejemplo 1\n",
        "def par_impar(numero):\n",
        "    if numero % 2 == 0:\n",
        "        return \"El número es par\"\n",
        "    else:\n",
        "        return \"El número es impar\"\n",
        "\n",
        "# Pedir número al usuario\n",
        "numero = int(input(\"Introduce un número: \"))\n",
        "\n",
        "# Imprimir el resultado\n",
        "print(par_impar(numero))\n",
        "\n",
        "\n",
        "#ejemplo2\n",
        "def par_impar(numero):\n",
        "    if numero % 2 == 0:\n",
        "        return \"El número es par\"\n",
        "    else:\n",
        "        return \"El número es impar\"\n",
        "numero: input(\"Introduce un número: \")\n",
        "print(par_impar(numero))"
      ],
      "metadata": {
        "id": "BByiPtdq1xMy",
        "outputId": "e453f798-a46f-4f28-9d0c-0da07d1a04d1",
        "colab": {
          "base_uri": "https://localhost:8080/"
        }
      },
      "execution_count": 51,
      "outputs": [
        {
          "output_type": "stream",
          "name": "stdout",
          "text": [
            "Introduce un número: 3\n",
            "El número es impar\n",
            "Introduce un número: 2\n",
            "El número es impar\n"
          ]
        }
      ]
    },
    {
      "cell_type": "code",
      "source": [
        "#tome la nota 1, la nota 2, la nota 3 sume las notas, saque el promedio, debe pasar con mas de 60%, como resultado debe decirme el nombre, el promedio y si paso.\n",
        "#funcion que pida por consola nombre , nota 1 nota 2 nota 3 de 1 a 100 y calcule el promedio y nos diga si aprobo sobre 60\n",
        "\n",
        "def calcular_promedio_notas():\n",
        "    \"\"\"\n",
        "    Función que solicita nombre y 3 notas, calcula el promedio\n",
        "    y determina si el estudiante aprobó (>=60)\n",
        "    \"\"\"\n",
        "    print(\"=== CALCULADORA DE PROMEDIO DE NOTAS ===\")\n",
        "\n",
        "    # Solicitar nombre del estudiante\n",
        "    nombre = input(\"Ingrese el nombre del estudiante: \")\n",
        "\n",
        "    # Solicitar las 3 notas con validación\n",
        "    notas = []\n",
        "\n",
        "    for i in range(1, 4):\n",
        "        while True:\n",
        "            try:\n",
        "                nota = float(input(f\"Ingrese la nota {i} (1-100): \"))\n",
        "                if 1 <= nota <= 100:\n",
        "                    notas.append(nota)\n",
        "                    break\n",
        "                else:\n",
        "                    print(\"Error: La nota debe estar entre 1 y 100\")\n",
        "            except ValueError:\n",
        "                print(\"Error: Ingrese un número válido\")\n",
        "\n",
        "    # Calcular promedio\n",
        "    promedio = sum(notas) / len(notas)\n",
        "\n",
        "    # Determinar si aprobó\n",
        "    estado = \"APROBADO\" if promedio >= 60 else \"REPROBADO\"\n",
        "\n",
        "    # Mostrar resultados\n",
        "    print(\"\\n\" + \"=\"*40)\n",
        "    print(f\"RESULTADOS PARA: {nombre.upper()}\")\n",
        "    print(\"=\"*40)\n",
        "    print(f\"Nota 1: {notas[0]:.1f}\")\n",
        "    print(f\"Nota 2: {notas[1]:.1f}\")\n",
        "    print(f\"Nota 3: {notas[2]:.1f}\")\n",
        "    print(f\"Promedio: {promedio:.2f}\")\n",
        "    print(f\"Estado: {estado}\")\n",
        "    print(\"=\"*40)\n",
        "\n",
        "    return {\n",
        "        'nombre': nombre,\n",
        "        'notas': notas,\n",
        "        'promedio': promedio,\n",
        "        'aprobado': promedio >= 60\n",
        "    }\n",
        "\n",
        "# Ejemplo de uso\n",
        "if __name__ == \"__main__\":\n",
        "    resultado = calcular_promedio_notas()\n",
        "\n",
        "    # Opción para calcular más estudiantes\n",
        "    while True:\n",
        "        continuar = input(\"\\n¿Desea calcular otro estudiante? (s/n): \").lower()\n",
        "        if continuar == 's':\n",
        "            calcular_promedio_notas()\n",
        "        else:\n",
        "            print(\"¡Hasta luego!\")\n",
        "            break"
      ],
      "metadata": {
        "id": "TKTmnr9k4LWB",
        "outputId": "1ae6b3c3-35c0-407e-a92f-8c87732f0c4f",
        "colab": {
          "base_uri": "https://localhost:8080/"
        }
      },
      "execution_count": null,
      "outputs": [
        {
          "output_type": "stream",
          "name": "stdout",
          "text": [
            "=== CALCULADORA DE PROMEDIO DE NOTAS ===\n",
            "Ingrese el nombre del estudiante: william ospoina \n",
            "Ingrese la nota 1 (1-100): 30\n",
            "Ingrese la nota 2 (1-100): 50\n",
            "Ingrese la nota 3 (1-100): 60\n",
            "\n",
            "========================================\n",
            "RESULTADOS PARA: WILLIAM OSPOINA \n",
            "========================================\n",
            "Nota 1: 30.0\n",
            "Nota 2: 50.0\n",
            "Nota 3: 60.0\n",
            "Promedio: 46.67\n",
            "Estado: REPROBADO\n",
            "========================================\n"
          ]
        }
      ]
    }
  ]
}