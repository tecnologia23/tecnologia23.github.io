{
  "nbformat": 4,
  "nbformat_minor": 0,
  "metadata": {
    "colab": {
      "provenance": [],
      "include_colab_link": true
    },
    "kernelspec": {
      "name": "python3",
      "display_name": "Python 3"
    },
    "language_info": {
      "name": "python"
    }
  },
  "cells": [
    {
      "cell_type": "markdown",
      "metadata": {
        "id": "view-in-github",
        "colab_type": "text"
      },
      "source": [
        "<a href=\"https://colab.research.google.com/github/tecnologia23/tecnologia23.github.io/blob/main/python_basico.ipynb\" target=\"_parent\"><img src=\"https://colab.research.google.com/assets/colab-badge.svg\" alt=\"Open In Colab\"/></a>"
      ]
    },
    {
      "cell_type": "code",
      "execution_count": null,
      "metadata": {
        "colab": {
          "base_uri": "https://localhost:8080/"
        },
        "id": "j1ueMEQVhaYy",
        "outputId": "1bf36ec2-55eb-48b2-b0e1-cfba622ef5d6"
      },
      "outputs": [
        {
          "output_type": "stream",
          "name": "stdout",
          "text": [
            "hola mundo\n"
          ]
        }
      ],
      "source": [
        "print(\"hola mundo\")\n",
        "prin"
      ]
    },
    {
      "cell_type": "code",
      "source": [
        "# Guardamos un número en una variable\n",
        "edad = 25\n",
        "\n",
        "# Mostramos el valor\n",
        "print(edad)  # 25\n"
      ],
      "metadata": {
        "colab": {
          "base_uri": "https://localhost:8080/"
        },
        "id": "UiPAPozll0xb",
        "outputId": "6bbc62c2-07f1-4396-b168-6dabfc57246a"
      },
      "execution_count": null,
      "outputs": [
        {
          "output_type": "stream",
          "name": "stdout",
          "text": [
            "25\n"
          ]
        }
      ]
    },
    {
      "cell_type": "code",
      "source": [
        "nombre = \"Ana\"      # Texto (string)\n",
        "edad = 30           # Número entero (int)\n",
        "altura = 1.75       # Número decimal (float)\n",
        "es_mayor = True     # Valor lógico (booleano)\n",
        "\n",
        "print(nombre, edad, altura, es_mayor)"
      ],
      "metadata": {
        "colab": {
          "base_uri": "https://localhost:8080/"
        },
        "id": "PC11iRfRm5cQ",
        "outputId": "78dd8b62-2587-4b48-832c-a0a3c2a945af"
      },
      "execution_count": null,
      "outputs": [
        {
          "output_type": "stream",
          "name": "stdout",
          "text": [
            "Ana 30 1.75 True\n"
          ]
        }
      ]
    },
    {
      "cell_type": "code",
      "source": [
        "x = 10  # x empieza con 10\n",
        "print(x)  # 10\n",
        "\n",
        "x = 20  # Ahora x vale 20\n",
        "print(x)  # 20\n"
      ],
      "metadata": {
        "colab": {
          "base_uri": "https://localhost:8080/"
        },
        "id": "4GrF2D9bm6R8",
        "outputId": "0e171a20-6bcc-4fdd-c5cf-8ab7e6cf1e10"
      },
      "execution_count": null,
      "outputs": [
        {
          "output_type": "stream",
          "name": "stdout",
          "text": [
            "10\n",
            "20\n"
          ]
        }
      ]
    },
    {
      "cell_type": "code",
      "source": [
        "#login\n",
        "cedula=1015987969\n",
        "clave = 1265\n",
        "clave_dinamica=158636\n",
        "\n",
        "#pantalla principal\n",
        "saldo = 50000\n",
        "Saldo = \"\"\n",
        "cliente= {\"nombre\": \"Juan\", \"apellido\": \"ramirez\",\"cedula\":cedula, \"email\":\"juan@gmail.com\"}\n",
        "cuenta={\"numero_cuenta\":\"43423424\",\"cliente\":cliente}\n",
        "lista_cuentas=[{\"numero_cuenta\":43423424,\"cliente\":cliente}, {\"numero_cuenta\":\"43423424\",\"cliente\":cliente}]\n",
        "\n",
        "#transferencias\n",
        "fecha=\"\"\n",
        "tipo_transferencia=\"\"\n",
        "\n",
        "\n",
        "#movimientos\n",
        "tipo_movimiento=\"\"\n",
        "fecha=\"\"\n",
        "monto=\"\"\n",
        "saldo=\"\"\n",
        "lista_movimientos=\"\"\n",
        "\n",
        "print(lista_cuentas)\n"
      ],
      "metadata": {
        "id": "SmqcI7h1nQKl",
        "colab": {
          "base_uri": "https://localhost:8080/"
        },
        "outputId": "a9194e0f-13af-4c68-9887-213bbb58e59b"
      },
      "execution_count": null,
      "outputs": [
        {
          "output_type": "stream",
          "name": "stdout",
          "text": [
            "[{'numero_cuenta': 43423424, 'cliente': {'nombre': 'Juan', 'apellido': 'ramirez', 'cedula': 1015987969, 'email': 'juan@gmail.com'}}, {'numero_cuenta': '43423424', 'cliente': {'nombre': 'Juan', 'apellido': 'ramirez', 'cedula': 1015987969, 'email': 'juan@gmail.com'}}]\n"
          ]
        }
      ]
    },
    {
      "cell_type": "code",
      "source": [
        "diccionario = {\"nombre\": \"Juan\", \"edad\": 30,\"apellido\": \"perez\"}\n",
        "print(diccionario)\n",
        "diccionario[\"profesión\"] = \"Ingeniero\"\n",
        "print(diccionario)\n",
        "print(diccionario[\"nombre\"])"
      ],
      "metadata": {
        "colab": {
          "base_uri": "https://localhost:8080/"
        },
        "id": "Cej0bXP5sp4L",
        "outputId": "8ffb5017-12f0-427f-9b04-6ed810a9f076"
      },
      "execution_count": null,
      "outputs": [
        {
          "output_type": "stream",
          "name": "stdout",
          "text": [
            "{'nombre': 'pepito', 'edad': 30, 'apellido': 'perez'}\n",
            "{'nombre': 'pepito', 'edad': 30, 'apellido': 'perez', 'profesión': 'Ingeniero'}\n",
            "pepito\n"
          ]
        }
      ]
    },
    {
      "cell_type": "code",
      "source": [
        "texto = \"Hola, mundo\"\n",
        "print(texto.upper())  # \"HOLA, MUNDO\""
      ],
      "metadata": {
        "colab": {
          "base_uri": "https://localhost:8080/"
        },
        "id": "AzCvOiqguElf",
        "outputId": "5beb1807-5395-4c56-f0bf-165b949833de"
      },
      "execution_count": null,
      "outputs": [
        {
          "output_type": "stream",
          "name": "stdout",
          "text": [
            "HOLA, MUNDO\n"
          ]
        }
      ]
    },
    {
      "cell_type": "code",
      "source": [
        "texto = \"    manzana banana uva\"\n",
        "texto = texto.strip()\n",
        "print(texto.split(\" \"))  # ['manzana', 'banana', 'uva']"
      ],
      "metadata": {
        "colab": {
          "base_uri": "https://localhost:8080/"
        },
        "id": "2iFKU5kBvzuU",
        "outputId": "10e51c23-6ccf-4688-8ba4-979c10f7d22b"
      },
      "execution_count": null,
      "outputs": [
        {
          "output_type": "stream",
          "name": "stdout",
          "text": [
            "['manzana', 'banana', 'uva']\n"
          ]
        }
      ]
    },
    {
      "cell_type": "code",
      "source": [
        "# Ejemplos de operadores aritméticos\n",
        "x = 11\n",
        "y = 3\n",
        "print(x + y)   # 13\n",
        "print(x - y)   # 7\n",
        "print(x * y)   # 30\n",
        "print(x / y)   # 3.333...\n",
        "print(x % y)   # 1\n",
        "print(x ** y)  # 1000\n",
        "print(x // y)  # 3"
      ],
      "metadata": {
        "id": "vHtncvM9wCrZ",
        "colab": {
          "base_uri": "https://localhost:8080/"
        },
        "outputId": "54f5bc34-1f08-424c-e80d-5dcc3e495cbc"
      },
      "execution_count": null,
      "outputs": [
        {
          "output_type": "stream",
          "name": "stdout",
          "text": [
            "14\n",
            "8\n",
            "33\n",
            "3.6666666666666665\n",
            "2\n",
            "1331\n",
            "3\n"
          ]
        }
      ]
    },
    {
      "cell_type": "code",
      "source": [
        "# Ejemplos de operadores de comparación\n",
        "a = \"a\"\n",
        "b = \"p\"\n",
        "print(a == b)   # False\n",
        "print(a != b)   # True\n",
        "print(a > b)    # False\n",
        "print(a < b)    # True\n",
        "print(a >= b)   # False\n",
        "print(a <= b)   # True"
      ],
      "metadata": {
        "colab": {
          "base_uri": "https://localhost:8080/"
        },
        "id": "_wCj6YQ0QiwU",
        "outputId": "b43b1414-833c-4811-bddc-a35d77d5cda8"
      },
      "execution_count": null,
      "outputs": [
        {
          "output_type": "stream",
          "name": "stdout",
          "text": [
            "False\n",
            "True\n",
            "False\n",
            "True\n",
            "False\n",
            "True\n"
          ]
        }
      ]
    },
    {
      "cell_type": "code",
      "source": [
        "def es_mayor_de_edad(edad):\n",
        "    if edad >= 18:\n",
        "        return \"Es mayor de edad\"\n",
        "    else:\n",
        "        return \"Es menor de edad\"\n",
        "\n",
        "# Pruebas\n",
        "print(es_mayor_de_edad(20))  # Es mayor de edad\n",
        "print(es_mayor_de_edad(5))  # Es menor de edad\n"
      ],
      "metadata": {
        "id": "xKuvNOcbqQBS",
        "outputId": "55483383-8b67-4053-8e5e-8d13f178f23c",
        "colab": {
          "base_uri": "https://localhost:8080/"
        }
      },
      "execution_count": 2,
      "outputs": [
        {
          "output_type": "stream",
          "name": "stdout",
          "text": [
            "Es mayor de edad\n",
            "Es menor de edad\n"
          ]
        }
      ]
    }
  ]
}